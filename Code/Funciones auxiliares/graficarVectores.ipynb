{
 "cells": [
  {
   "cell_type": "code",
   "execution_count": 5,
   "metadata": {},
   "outputs": [],
   "source": [
    "# Recibirá los vectores, los colores y el nivel de trasparencia con el cual trabajaremos \n",
    "\n",
    "def graficarVectores(vecs, cols, alpha = 1):\n",
    "    \n",
    "    # Agregamos el eje vertical. Este se cruzará en x = 0, el color será gris y el orden de z será 0 \n",
    "    plt.axvline(x = 0, color = \"grey\", zorder = 0)\n",
    "    # Agregamos el eje horizontal. Este se cruzará en y = 0, el color será gris y el orden de z será 0 \n",
    "    plt.axhline(y = 0, color = \"grey\", zorder = 0)\n",
    "    \n",
    "    # Ahora ara cada uno de los vectores en el parámetro \n",
    "    for i in range(len(vecs)):\n",
    "        # Tomaremos que la x es la concatenación de esos valores como 0 0 que es lo que estamos tomando como punto de origen \n",
    "        # Después de agregar el 0 0 le concatenamos el vector i \n",
    "        x = np.concatenate([[0,0], vecs[i]])\n",
    "        # Vamos a graficar y agregamos todas las coordenadas\n",
    "        plt.quiver([x[0]],\n",
    "                   [x[1]],\n",
    "                   [x[2]],\n",
    "                   [x[3]],\n",
    "                   # Los ángulos estarán expresados en xy y la escuela de unidad será xy \n",
    "                   angles = 'xy', scale_units = 'xy',\n",
    "                   # La escala con la que graficaremos será 1 \n",
    "                   scale = 1,\n",
    "                   color = cols[i],\n",
    "                   alpha = alpha\n",
    "                  )"
   ]
  },
  {
   "cell_type": "code",
   "execution_count": null,
   "metadata": {},
   "outputs": [],
   "source": []
  }
 ],
 "metadata": {
  "kernelspec": {
   "display_name": "Python 3",
   "language": "python",
   "name": "python3"
  },
  "language_info": {
   "codemirror_mode": {
    "name": "ipython",
    "version": 3
   },
   "file_extension": ".py",
   "mimetype": "text/x-python",
   "name": "python",
   "nbconvert_exporter": "python",
   "pygments_lexer": "ipython3",
   "version": "3.8.3"
  }
 },
 "nbformat": 4,
 "nbformat_minor": 4
}
