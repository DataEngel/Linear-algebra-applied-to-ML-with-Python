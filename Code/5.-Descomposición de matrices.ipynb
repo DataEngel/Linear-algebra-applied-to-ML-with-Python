{
 "cells": [
  {
   "cell_type": "markdown",
   "metadata": {},
   "source": [
    "## Descomposición de matrices \n",
    "Descomposición de matrices\n",
    "Consiste en reescribir una matriz cuadrada X como un producto de A x B x C, es decir X = AxBxC, donde:\n",
    "\n",
    "* A: es la matriz formada por los autovectores\n",
    "* B: matriz diagonal formada por los autovalores\n",
    "* C: matriz inversa de A.\n",
    "\n",
    "**Nota:** En matrices reales y simétricas, C = A.T (matriz traspuesta de los autovectores). Esta propiedad tiene menor costo computacional.\n",
    "\n",
    "**Recordatorio:** Una matriz cuadrada es aquella que tiene igual número de filas y columnas, y cuyos vectores que la componen son linealmente independientes."
   ]
  },
  {
   "cell_type": "code",
   "execution_count": 18,
   "metadata": {},
   "outputs": [],
   "source": [
    "# Importamos Numpy\n",
    "\n",
    "import numpy as np"
   ]
  },
  {
   "cell_type": "code",
   "execution_count": 19,
   "metadata": {},
   "outputs": [
    {
     "name": "stdout",
     "output_type": "stream",
     "text": [
      "[[3 2]\n",
      " [4 1]]\n"
     ]
    }
   ],
   "source": [
    "# Creamos una matriz\n",
    "\n",
    "A = np.array([[3, 2], [4, 1]])\n",
    "print(A)"
   ]
  },
  {
   "cell_type": "code",
   "execution_count": 20,
   "metadata": {},
   "outputs": [],
   "source": [
    "# Calculamos los autovalores y los autovectores\n",
    "\n",
    "autovalores , autovectores = np.linalg.eig(A)"
   ]
  },
  {
   "cell_type": "code",
   "execution_count": 21,
   "metadata": {},
   "outputs": [
    {
     "name": "stdout",
     "output_type": "stream",
     "text": [
      "[ 5. -1.]\n",
      "[[ 0.70710678 -0.4472136 ]\n",
      " [ 0.70710678  0.89442719]]\n"
     ]
    }
   ],
   "source": [
    "# Mostramos los autovectores y los autovalores \n",
    "\n",
    "print(autovalores)\n",
    "print(autovectores)"
   ]
  },
  {
   "cell_type": "code",
   "execution_count": 22,
   "metadata": {},
   "outputs": [],
   "source": [
    "A_calc = autovectores.dot(np.diag(autovalores)).dot(np.linalg.inv(autovectores))"
   ]
  },
  {
   "cell_type": "code",
   "execution_count": 23,
   "metadata": {},
   "outputs": [
    {
     "name": "stdout",
     "output_type": "stream",
     "text": [
      "[[3. 2.]\n",
      " [4. 1.]]\n"
     ]
    }
   ],
   "source": [
    "# Imprimimos la A_calc\n",
    "\n",
    "print(A_calc)"
   ]
  },
  {
   "cell_type": "code",
   "execution_count": 24,
   "metadata": {},
   "outputs": [
    {
     "name": "stdout",
     "output_type": "stream",
     "text": [
      "[[3 2]\n",
      " [2 3]]\n"
     ]
    }
   ],
   "source": [
    "# Creamos y mostramos la matriz\n",
    "\n",
    "A = np.array([[3,2], [2,3]])\n",
    "print(A)"
   ]
  },
  {
   "cell_type": "code",
   "execution_count": 25,
   "metadata": {},
   "outputs": [
    {
     "name": "stdout",
     "output_type": "stream",
     "text": [
      "[[ True  True]\n",
      " [ True  True]]\n"
     ]
    }
   ],
   "source": [
    "# Demostramos que esta matriz es simétrica, ya que coincide con su traspuesta\n",
    "\n",
    "print(A == A.T)"
   ]
  },
  {
   "cell_type": "code",
   "execution_count": 26,
   "metadata": {},
   "outputs": [
    {
     "name": "stdout",
     "output_type": "stream",
     "text": [
      "[5. 1.]\n",
      "[[ 0.70710678 -0.70710678]\n",
      " [ 0.70710678  0.70710678]]\n"
     ]
    }
   ],
   "source": [
    "# Calculamos de nuevo los autovalores y los autovectores\n",
    "\n",
    "autovalores , autovectores = np.linalg.eig(A)\n",
    "print(autovalores)\n",
    "print(autovectores)\n",
    "\n",
    "# Lo que estamos obteniendo es que los autovalores son el 5 y el 1 y nuestra matriz es la que tiene esos valores "
   ]
  },
  {
   "cell_type": "code",
   "execution_count": 27,
   "metadata": {},
   "outputs": [
    {
     "name": "stdout",
     "output_type": "stream",
     "text": [
      "[[3. 2.]\n",
      " [2. 3.]]\n"
     ]
    }
   ],
   "source": [
    "# Podemos reescribirla usando \n",
    "# Una matriz simétrica es igual a su traspuesta, pero ademas si esto ocurre podremos escribir la descomposición como nuestra \n",
    "# matriz a es igual a los autovectores por la diagonal de las lambdas por la traspuesta de los autovectores\n",
    "\n",
    "A_calc = autovectores.dot(np.diag(autovalores)).dot(autovectores.T)\n",
    "print(A_calc)\n",
    "\n",
    "# Entonces, calcular una traspuesta es muchismo más economico que calcular una inversa, entonces nuestro casi ideal es que \n",
    "# en vez de tener una matriz cualquiera estuvimos una matriz real simétrica, sin tener que realizar la inversa "
   ]
  },
  {
   "cell_type": "markdown",
   "metadata": {},
   "source": [
    "Convlusion: Podemos escribir a nuestra matriz cuando es cuadrada en funcion de los autovalores y autovectores, y en el caso de que sea simetrica podemos usar la traspuesta en lugar de la inversa. "
   ]
  },
  {
   "cell_type": "code",
   "execution_count": null,
   "metadata": {},
   "outputs": [],
   "source": []
  },
  {
   "cell_type": "code",
   "execution_count": null,
   "metadata": {},
   "outputs": [],
   "source": []
  }
 ],
 "metadata": {
  "kernelspec": {
   "display_name": "Python 3",
   "language": "python",
   "name": "python3"
  },
  "language_info": {
   "codemirror_mode": {
    "name": "ipython",
    "version": 3
   },
   "file_extension": ".py",
   "mimetype": "text/x-python",
   "name": "python",
   "nbconvert_exporter": "python",
   "pygments_lexer": "ipython3",
   "version": "3.8.3"
  }
 },
 "nbformat": 4,
 "nbformat_minor": 4
}
